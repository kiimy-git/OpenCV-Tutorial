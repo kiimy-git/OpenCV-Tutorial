{
  "nbformat": 4,
  "nbformat_minor": 0,
  "metadata": {
    "colab": {
      "name": "ch01_basic",
      "provenance": [],
      "mount_file_id": "1e70y9uQYp5aZx2xw94QhRmUn9b7d8tPK",
      "authorship_tag": "ABX9TyNxmV2XE4MkkHN8qpjy4glH",
      "include_colab_link": true
    },
    "kernelspec": {
      "name": "python3",
      "display_name": "Python 3"
    },
    "language_info": {
      "name": "python"
    }
  },
  "cells": [
    {
      "cell_type": "markdown",
      "metadata": {
        "id": "view-in-github",
        "colab_type": "text"
      },
      "source": [
        "<a href=\"https://colab.research.google.com/github/kimmy-git/OpenCV-Tutorial/blob/main/ch01_basic.ipynb\" target=\"_parent\"><img src=\"https://colab.research.google.com/assets/colab-badge.svg\" alt=\"Open In Colab\"/></a>"
      ]
    },
    {
      "cell_type": "code",
      "metadata": {
        "id": "e4ABaXcZpVS5"
      },
      "source": [
        "import cv2 as cv\n",
        "import numpy as np\n",
        "import sys\n",
        "import matplotlib.pyplot as plt"
      ],
      "execution_count": 2,
      "outputs": []
    },
    {
      "cell_type": "code",
      "metadata": {
        "id": "knBHE-EPpYdD"
      },
      "source": [
        "# image 불러오기\n",
        "img = cv.imread('/content/drive/MyDrive/fastcmapers/ch01/cat.bmp')\n",
        "\n",
        "# BGR => RGB (plt 사용시)\n",
        "# imread('이미지', cv.IMREAD_GRAYSCALE) 사용시\n",
        "# plt.imshow(img, cmap='gray')\n",
        "img = cv.cvtColor(img, cv.COLOR_BGR2RGB)\n",
        "\n",
        "# 숫자 없애기\n",
        "plt.axis('off') \n",
        "# plt.imshow(cv.cvtColor(img, cv.COLOR_BGR2RGB))\n",
        "# plt.show()\n",
        "\n",
        "plt.imshow(img)\n",
        "\n",
        "# plt.subplot\n",
        "plt.subplot(121) # 1행에 2열로 나눴고 1번째에 출력해라\n",
        "plt.subplot(122), plt.axis('off'), plt.imshow(img)"
      ],
      "execution_count": null,
      "outputs": []
    },
    {
      "cell_type": "code",
      "metadata": {
        "id": "0xjf6gFSpRmt"
      },
      "source": [
        "# image 불러오기\n",
        "img = cv.imread('/content/drive/MyDrive/fastcmapers/ch01/cat.bmp')\n",
        "# filename, flag == IMREAD_COLOR이 default (rows, cols, 3) = BGR 컬러 영상으로 읽기\n",
        "# IMREAD_GRAYSCALE (rows, cols) = GrayScale 영상으로 읽기\n",
        "# IMREAD_UNCHANGED (rows, cols, 4) = 영상 파일 속성 그대로 읽기 (투명한 PNG파일)\n",
        "\n",
        "# return\n",
        "# np.ndarray\n",
        "\n",
        "# 예외처리\n",
        "if img is None:\n",
        "  print('Image load failed')\n",
        "  sys.exit()\n",
        "\n",
        "# 굳이 필요 없지만 = 이미지 수정할려면 필요\n",
        "cv.namedWindow('image')\n",
        "# WINDOW_NORMAL = 영상 크기가 클때(마우스로 크기를 줄이거나 키울 수 있음)\n",
        "# WINDOW_AUTOSIZE = default\n",
        "\n",
        "cv.imshow('image', img)\n",
        "# cv.imshow -> ndarray영상을 출력\n",
        "# img = uint type으로 출력을 해야 성능이 좋음\n",
        "# uint = 255로 나눠서 출력\n",
        "# float = 0-1사이 값에 255를 곱해서 출력\n",
        "# ctrl + s = 이미지 불러오고나서 저장\n",
        "# ctrl + c = 영상 or 이미지 장면 복사\n",
        "\n",
        "# 아스키 코드 출력\n",
        "cv.waitkey()\n",
        "\n",
        "# 굳이 필요 없지만 = 특정 함수내에서 끝나면 닫고 싶다면 사용\n",
        "# .destroyWindow('img')\n",
        "cv.destroyAllWindows() "
      ],
      "execution_count": null,
      "outputs": []
    },
    {
      "cell_type": "code",
      "metadata": {
        "id": "LMr-dqjUrgkW"
      },
      "source": [
        "# image 저장하기\n",
        "cv.imwrite('저장할 영상 파일이름', '저장할 영상 데이터(np.ndarray)')"
      ],
      "execution_count": null,
      "outputs": []
    }
  ]
}